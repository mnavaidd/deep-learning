{
  "nbformat": 4,
  "nbformat_minor": 0,
  "metadata": {
    "colab": {
      "name": "svm2.ipynb",
      "provenance": [],
      "machine_shape": "hm"
    },
    "kernelspec": {
      "name": "python3",
      "display_name": "Python 3"
    },
    "accelerator": "GPU"
  },
  "cells": [
    {
      "cell_type": "code",
      "metadata": {
        "id": "Ylk--0mH5vu1",
        "colab_type": "code",
        "colab": {}
      },
      "source": [
        "import tensorflow.keras"
      ],
      "execution_count": 0,
      "outputs": []
    },
    {
      "cell_type": "code",
      "metadata": {
        "id": "1JrMG1s8M4dL",
        "colab_type": "code",
        "colab": {}
      },
      "source": [
        "base_dir = '/content/drive/My Drive/Colab Notebooks/kaffygee/dataset'"
      ],
      "execution_count": 0,
      "outputs": []
    },
    {
      "cell_type": "code",
      "metadata": {
        "id": "sVcBpqYT5_B9",
        "colab_type": "code",
        "colab": {}
      },
      "source": [
        "labels={\"Arrowhead\":0,\"Arrowhead + Triangle\":1,\"Barred Tee\":2,\"Box Tee\":3,\"Continuity Label\":4,\"Control\":5,\n",
        "             \"Control Valve\":6,\"Control Valve Angle Choke\":7,\"Control Valve Globe\":8,\"DBBBV\":9,\"DBBBV\":10,\"DBBPV\":11,\n",
        "             \"Deluge\":12,\"ESDV Valve Ball\":13,\"ESDV Valve Butterfly\":14,\"ESDV Valve Slab Gate\":15,\"Exit to Atmosphere\":16,\n",
        "             \"Flange + Triangle\":17,\"Flange Joint\":18,\"Flange Single T-Shape\":19,\"Injector Point\":20,\"Line Blindspacer\":21,\n",
        "             \"Reducer\":22,\"Rupture Disc\":23,\"Sensor\":24,\"Spectacle Blind\":25,\"Temporary Strainer\":26,\"Triangle\":26,\n",
        "             \"Ultrasonic Flow Meter\":27,\"Valve\":28,\"Valve Angle images\":29,\"Valve Ball\":30,\"Valve Butterfly\":31,\"Valve Check\":32,\n",
        "             \"Valve Gate Through Conduit\":33,\"Valve Globe\":34,\"Valve Plug\":35,\"Valve Slab Gate\":36,\"Vessel\":37}\n",
        "\n",
        "\n",
        "\n"
      ],
      "execution_count": 0,
      "outputs": []
    },
    {
      "cell_type": "code",
      "metadata": {
        "id": "TABGdn6dEDB_",
        "colab_type": "code",
        "colab": {}
      },
      "source": [
        "import os, shutil\n",
        "train_dir = os.path.join(base_dir, 'train')\n",
        "validation_dir = os.path.join(base_dir, 'validation')\n",
        "# test_dir = os.path.join(base_dir, 'test')"
      ],
      "execution_count": 0,
      "outputs": []
    },
    {
      "cell_type": "code",
      "metadata": {
        "id": "62Npjzr66Ksk",
        "colab_type": "code",
        "colab": {}
      },
      "source": [
        "train_Arrowhead_dir = os.path.join(train_dir, 'Arrowhead')\n",
        "train_Arrowhead_Triangle_dir = os.path.join(train_dir, 'Arrowhead Triangle')\n",
        "train_Barred_Tee_dir = os.path.join(train_dir, 'Barred Tee')\n",
        "train_Box_dir = os.path.join(train_dir, 'Box')\n",
        "train_Continuity_Label_dir = os.path.join(train_dir, 'Continuity Label')\n",
        "train_Control_dir = os.path.join(train_dir, 'Control')\n",
        "train_Control_Valve_dir = os.path.join(train_dir, 'Control Valve')\n",
        "train_Control_Valve_Angle_Choke_dir = os.path.join(train_dir, 'Control Valve Angle Choke')\n",
        "train_Control_Valve_Globe_dir = os.path.join(train_dir, 'Control Valve Globe')\n",
        "train_DBBBV_dir = os.path.join(train_dir, 'DBBBV')\n",
        "train_DBBBV_Valve_Check_dir = os.path.join(train_dir, 'DBBBV Valve Check')\n",
        "train_DBBPV_dir = os.path.join(train_dir, 'DBBPV')\n",
        "train_Deluge_dir = os.path.join(train_dir, 'Deluge')\n",
        "train_ESDV_Valve_Ball_dir = os.path.join(train_dir, 'ESDV Valve Ball')\n",
        "train_ESDV_Valve_Butterfly_dir = os.path.join(train_dir, 'ESDV Valve Butterfly')\n",
        "train_ESDV_Valve_Slab_Gate_dir = os.path.join(train_dir, 'ESDV Valve Slab Gate')\n",
        "train_Exitto_Atmosphere_dir = os.path.join(train_dir, 'Exit to Atmosphere')\n",
        "train_Flange_Triangle_dir = os.path.join(train_dir, 'Flange Triangle')\n",
        "train_Flange_Joint_dir = os.path.join(train_dir, 'Flange Joint')\n",
        "train_Flange_Single_TShape_dir = os.path.join(train_dir, 'Flange Single T-Shape')\n",
        "train_Injector_Point_dir = os.path.join(train_dir, 'Injector Point')\n",
        "train_Line_Blindspacer_dir = os.path.join(train_dir, 'Line Blindspacer')\n",
        "train_Reducer_dir = os.path.join(train_dir, 'Reducer')\n",
        "train_Rupture_Disc_dir = os.path.join(train_dir, 'Rupture Disc')\n",
        "train_Sensor_dir = os.path.join(train_dir, 'Sensor')\n",
        "train_Spectacle_Blind_dir = os.path.join(train_dir, 'Spectacle Blind')\n",
        "train_Temporary_Strainer_dir = os.path.join(train_dir, 'Temporary Strainer')\n",
        "train_Triangle_dir = os.path.join(train_dir, 'Triangle')\n",
        "train_Ultrasonic_Flow_Meter_dir = os.path.join(train_dir, 'Ultrasonic Flow Meter')\n",
        "train_Valve_dir = os.path.join(train_dir, 'Valve')\n",
        "train_Valve_Angle_dir = os.path.join(train_dir, 'Valve Angle')\n",
        "train_Valve_Ball_dir = os.path.join(train_dir, 'Valve Ball')\n",
        "train_Valve_Butterfly_dir = os.path.join(train_dir, 'Valve Butterfly')\n",
        "train_Valve_Check_dir = os.path.join(train_dir, 'Valve Check')\n",
        "train_Valve_Gate_Through_Conduit_dir = os.path.join(train_dir, 'Valve Gate Through Conduit')\n",
        "train_Valve_Globe_dir = os.path.join(train_dir, 'Valve Globe')\n",
        "train_Valve_Plug_dir = os.path.join(train_dir, 'Valve Plug')\n",
        "train_Valve_Slab_Gate_dir = os.path.join(train_dir, 'Valve Slab Gate')\n",
        "train_Vessel_dir = os.path.join(train_dir, 'Vessel')\n"
      ],
      "execution_count": 0,
      "outputs": []
    },
    {
      "cell_type": "code",
      "metadata": {
        "id": "gkw7zvYNA6HZ",
        "colab_type": "code",
        "colab": {
          "base_uri": "https://localhost:8080/",
          "height": 680
        },
        "outputId": "2d848690-8666-4b24-be58-395bddf74667"
      },
      "source": [
        "print('total training Arrowhead images:', len(os.listdir(train_Arrowhead_dir)))\n",
        "print('total training Arrowhead + Triangle images:', len(os.listdir(train_Arrowhead_Triangle_dir)))\n",
        "print('total training Barred Tee images:', len(os.listdir(train_Barred_Tee_dir)))\n",
        "print('total training Box Tee images:', len(os.listdir(train_Box_dir)))\n",
        "print('total training Continuity Label images:', len(os.listdir(train_Continuity_Label_dir)))\n",
        "print('total training Control images:', len(os.listdir(train_Control_dir)))\n",
        "print('total training Control Valve images:', len(os.listdir(train_Control_Valve_dir)))\n",
        "print('total training Control Valve Angle Choke images:', len(os.listdir(train_Control_Valve_Angle_Choke_dir)))\n",
        "print('total training Control Valve Globe images:', len(os.listdir(train_Control_Valve_Globe_dir)))\n",
        "print('total training DB&BBV images:', len(os.listdir(train_DBBBV_dir)))\n",
        "print('total training DB&BBV + Valve Check images:', len(os.listdir(train_DBBBV_Valve_Check_dir)))\n",
        "print('total training DB&BPV images:', len(os.listdir(train_DBBPV_dir)))\n",
        "print('total training Deluge images:', len(os.listdir(train_Deluge_dir)))\n",
        "print('total training ESDV Valve Ball images:', len(os.listdir(train_ESDV_Valve_Ball_dir)))\n",
        "print('total training ESDV Valve Butterfly images:', len(os.listdir(train_ESDV_Valve_Butterfly_dir)))\n",
        "print('total training ESDV Valve Slab Gate images:', len(os.listdir(train_ESDV_Valve_Slab_Gate_dir)))\n",
        "print('total training Exit to Atmosphere images:', len(os.listdir(train_Exitto_Atmosphere_dir)))\n",
        "print('total training Flange + Triangle images:', len(os.listdir(train_Flange_Triangle_dir)))\n",
        "print('total training Flange Joint images:', len(os.listdir(train_Flange_Joint_dir)))\n",
        "print('total training Flange Single T-Shape images:', len(os.listdir(train_Flange_Single_TShape_dir)))\n",
        "print('total training Injector Point images:', len(os.listdir(train_Injector_Point_dir)))\n",
        "print('total training Line Blindspacer images:', len(os.listdir(train_Line_Blindspacer_dir)))\n",
        "print('total training Reducer images:', len(os.listdir(train_Reducer_dir)))\n",
        "print('total training Rupture Disc images:', len(os.listdir(train_Rupture_Disc_dir)))\n",
        "print('total training Sensor images:', len(os.listdir(train_Sensor_dir)))\n",
        "print('total training Spectacle Blind images:', len(os.listdir(train_Spectacle_Blind_dir)))\n",
        "print('total training Temporary Strainer images:', len(os.listdir(train_Temporary_Strainer_dir)))\n",
        "print('total training Triangle images:', len(os.listdir(train_Triangle_dir)))\n",
        "print('total training Ultrasonic Flow Meter images:', len(os.listdir(train_Ultrasonic_Flow_Meter_dir)))\n",
        "print('total training Valve images:', len(os.listdir(train_Valve_dir)))\n",
        "print('total training Valve Angle images:', len(os.listdir(train_Valve_Angle_dir)))\n",
        "print('total training Valve Ball images:', len(os.listdir(train_Valve_Ball_dir)))\n",
        "print('total training Valve Butterfly images:', len(os.listdir(train_Valve_Butterfly_dir)))\n",
        "print('total training Valve Check images:', len(os.listdir(train_Valve_Check_dir)))\n",
        "print('total training Valve Gate Through Conduit images:', len(os.listdir(train_Valve_Gate_Through_Conduit_dir)))\n",
        "print('total training Valve Globe images:', len(os.listdir(train_Valve_Globe_dir)))\n",
        "print('total training Valve Plug images:', len(os.listdir(train_Valve_Plug_dir)))\n",
        "print('total training Valve Slab Gate images:', len(os.listdir(train_Valve_Slab_Gate_dir)))\n",
        "print('total training Vessel images:', len(os.listdir(train_Vessel_dir)))\n"
      ],
      "execution_count": 6,
      "outputs": [
        {
          "output_type": "stream",
          "text": [
            "total training Arrowhead images: 240\n",
            "total training Arrowhead + Triangle images: 83\n",
            "total training Barred Tee images: 1\n",
            "total training Box Tee images: 7\n",
            "total training Continuity Label images: 116\n",
            "total training Control images: 13\n",
            "total training Control Valve images: 5\n",
            "total training Control Valve Angle Choke images: 2\n",
            "total training Control Valve Globe images: 23\n",
            "total training DB&BBV images: 127\n",
            "total training DB&BBV + Valve Check images: 39\n",
            "total training DB&BPV images: 113\n",
            "total training Deluge images: 4\n",
            "total training ESDV Valve Ball images: 65\n",
            "total training ESDV Valve Butterfly images: 7\n",
            "total training ESDV Valve Slab Gate images: 9\n",
            "total training Exit to Atmosphere images: 12\n",
            "total training Flange + Triangle images: 17\n",
            "total training Flange Joint images: 46\n",
            "total training Flange Single T-Shape images: 61\n",
            "total training Injector Point images: 43\n",
            "total training Line Blindspacer images: 4\n",
            "total training Reducer images: 285\n",
            "total training Rupture Disc images: 10\n",
            "total training Sensor images: 392\n",
            "total training Spectacle Blind images: 42\n",
            "total training Temporary Strainer images: 6\n",
            "total training Triangle images: 74\n",
            "total training Ultrasonic Flow Meter images: 1\n",
            "total training Valve images: 40\n",
            "total training Valve Angle images: 27\n",
            "total training Valve Ball images: 173\n",
            "total training Valve Butterfly images: 71\n",
            "total training Valve Check images: 126\n",
            "total training Valve Gate Through Conduit images: 4\n",
            "total training Valve Globe images: 28\n",
            "total training Valve Plug images: 88\n",
            "total training Valve Slab Gate images: 24\n",
            "total training Vessel images: 4\n"
          ],
          "name": "stdout"
        }
      ]
    },
    {
      "cell_type": "code",
      "metadata": {
        "id": "1CDzNswt6bZq",
        "colab_type": "code",
        "colab": {}
      },
      "source": [
        "from tensorflow.keras.preprocessing.image import ImageDataGenerator\n",
        "\n",
        "# All images will be rescaled by 1./255\n",
        "train_datagen = ImageDataGenerator(rescale=1./255) # set validation split\n",
        "val_datagen = ImageDataGenerator(rescale=1./255)"
      ],
      "execution_count": 0,
      "outputs": []
    },
    {
      "cell_type": "code",
      "metadata": {
        "id": "zbnLPhxK6gS5",
        "colab_type": "code",
        "colab": {
          "base_uri": "https://localhost:8080/",
          "height": 122
        },
        "outputId": "90143a3d-2a75-4579-8b49-dd19e00e2563"
      },
      "source": [
        "train_generator = train_datagen.flow_from_directory(\n",
        "        train_dir,\n",
        "        batch_size=32,\n",
        "        target_size=(256, 256), #image resize\n",
        "        class_mode='categorical'\n",
        "        )\n",
        "\n",
        "validation_generator = val_datagen.flow_from_directory(\n",
        "        validation_dir,\n",
        "        batch_size=32,\n",
        "        target_size=(256, 256),\n",
        "        class_mode='categorical'\n",
        "        )\n",
        "\n",
        "print(train_generator.class_indices.keys())\n",
        "print(train_generator.class_indices.values())\n",
        "print(validation_generator.class_indices.keys())"
      ],
      "execution_count": 8,
      "outputs": [
        {
          "output_type": "stream",
          "text": [
            "Found 2432 images belonging to 39 classes.\n",
            "Found 991 images belonging to 39 classes.\n",
            "dict_keys(['Arrowhead', 'Arrowhead Triangle', 'Barred Tee', 'Box', 'Continuity Label', 'Control', 'Control Valve', 'Control Valve Angle Choke', 'Control Valve Globe', 'DBBBV', 'DBBBV Valve Check', 'DBBPV', 'Deluge', 'ESDV Valve Ball', 'ESDV Valve Butterfly', 'ESDV Valve Slab Gate', 'Exit to Atmosphere', 'Flange Joint', 'Flange Single T-Shape', 'Flange Triangle', 'Injector Point', 'Line Blindspacer', 'Reducer', 'Rupture Disc', 'Sensor', 'Spectacle Blind', 'Temporary Strainer', 'Triangle', 'Ultrasonic Flow Meter', 'Valve', 'Valve Angle', 'Valve Ball', 'Valve Butterfly', 'Valve Check', 'Valve Gate Through Conduit', 'Valve Globe', 'Valve Plug', 'Valve Slab Gate', 'Vessel'])\n",
            "dict_values([0, 1, 2, 3, 4, 5, 6, 7, 8, 9, 10, 11, 12, 13, 14, 15, 16, 17, 18, 19, 20, 21, 22, 23, 24, 25, 26, 27, 28, 29, 30, 31, 32, 33, 34, 35, 36, 37, 38])\n",
            "dict_keys(['Arrowhead', 'Arrowhead + Triangle', 'Barred Tee', 'Box', 'Continuity Label', 'Control', 'Control Valve', 'Control Valve Angle Choke', 'Control Valve Globe', 'DB&BBV', 'DB&BBV + Valve Check', 'DB&BPV', 'Deluge', 'ESDV Valve Ball', 'ESDV Valve Butterfly', 'ESDV Valve Slab Gate', 'Exit to Atmosphere', 'Flange + Triangle', 'Flange Joint', 'Flange Single T-Shape', 'Injector Point', 'Line Blindspacer', 'Reducer', 'Rupture Disc', 'Sensor', 'Spectacle Blind', 'Temporary Strainer', 'Triangle', 'Ultrasonic Flow Meter', 'Valve', 'Valve Angle', 'Valve Ball', 'Valve Butterfly', 'Valve Check', 'Valve Gate Through Conduit', 'Valve Globe', 'Valve Plug', 'Valve Slab Gate', 'Vessel'])\n"
          ],
          "name": "stdout"
        }
      ]
    },
    {
      "cell_type": "code",
      "metadata": {
        "id": "lI9pl-oQ6sA4",
        "colab_type": "code",
        "colab": {
          "base_uri": "https://localhost:8080/",
          "height": 71
        },
        "outputId": "b9bee8de-7fba-4573-b9ab-cad41bafd4ae"
      },
      "source": [
        "print(train_generator.class_indices.keys())\n",
        "print(validation_generator.class_indices.keys())"
      ],
      "execution_count": 9,
      "outputs": [
        {
          "output_type": "stream",
          "text": [
            "dict_keys(['Arrowhead', 'Arrowhead Triangle', 'Barred Tee', 'Box', 'Continuity Label', 'Control', 'Control Valve', 'Control Valve Angle Choke', 'Control Valve Globe', 'DBBBV', 'DBBBV Valve Check', 'DBBPV', 'Deluge', 'ESDV Valve Ball', 'ESDV Valve Butterfly', 'ESDV Valve Slab Gate', 'Exit to Atmosphere', 'Flange Joint', 'Flange Single T-Shape', 'Flange Triangle', 'Injector Point', 'Line Blindspacer', 'Reducer', 'Rupture Disc', 'Sensor', 'Spectacle Blind', 'Temporary Strainer', 'Triangle', 'Ultrasonic Flow Meter', 'Valve', 'Valve Angle', 'Valve Ball', 'Valve Butterfly', 'Valve Check', 'Valve Gate Through Conduit', 'Valve Globe', 'Valve Plug', 'Valve Slab Gate', 'Vessel'])\n",
            "dict_keys(['Arrowhead', 'Arrowhead + Triangle', 'Barred Tee', 'Box', 'Continuity Label', 'Control', 'Control Valve', 'Control Valve Angle Choke', 'Control Valve Globe', 'DB&BBV', 'DB&BBV + Valve Check', 'DB&BPV', 'Deluge', 'ESDV Valve Ball', 'ESDV Valve Butterfly', 'ESDV Valve Slab Gate', 'Exit to Atmosphere', 'Flange + Triangle', 'Flange Joint', 'Flange Single T-Shape', 'Injector Point', 'Line Blindspacer', 'Reducer', 'Rupture Disc', 'Sensor', 'Spectacle Blind', 'Temporary Strainer', 'Triangle', 'Ultrasonic Flow Meter', 'Valve', 'Valve Angle', 'Valve Ball', 'Valve Butterfly', 'Valve Check', 'Valve Gate Through Conduit', 'Valve Globe', 'Valve Plug', 'Valve Slab Gate', 'Vessel'])\n"
          ],
          "name": "stdout"
        }
      ]
    },
    {
      "cell_type": "code",
      "metadata": {
        "id": "uRM3RYdhSHd-",
        "colab_type": "code",
        "colab": {}
      },
      "source": [
        "from pathlib import Path\n",
        "import matplotlib.pyplot as plt\n",
        "import numpy as np\n",
        "%matplotlib notebook\n",
        "from sklearn import svm, metrics, datasets\n",
        "from sklearn.utils import Bunch\n",
        "from sklearn.model_selection import GridSearchCV, train_test_split\n",
        "\n",
        "from skimage.io import imread\n",
        "from skimage.transform import resize"
      ],
      "execution_count": 0,
      "outputs": []
    },
    {
      "cell_type": "code",
      "metadata": {
        "id": "pkZ6Ah_N8FaR",
        "colab_type": "code",
        "colab": {}
      },
      "source": [
        "svc = svm.SVC()\n",
        "svc.fit(train_generator, validation_generator)"
      ],
      "execution_count": 0,
      "outputs": []
    },
    {
      "cell_type": "code",
      "metadata": {
        "id": "KemznJmgWqkZ",
        "colab_type": "code",
        "colab": {}
      },
      "source": [
        "y_pred = clf.predict(X_test)"
      ],
      "execution_count": 0,
      "outputs": []
    },
    {
      "cell_type": "code",
      "metadata": {
        "id": "1lS5TTBmWzoF",
        "colab_type": "code",
        "colab": {}
      },
      "source": [
        "print(\"Classification report for - \\n{}:\\n{}\\n\".format(\n",
        "    clf, metrics.classification_report(y_test, y_pred)))"
      ],
      "execution_count": 0,
      "outputs": []
    },
    {
      "cell_type": "code",
      "metadata": {
        "id": "gB1IYEfASVU9",
        "colab_type": "code",
        "colab": {}
      },
      "source": [
        ""
      ],
      "execution_count": 0,
      "outputs": []
    }
  ]
}